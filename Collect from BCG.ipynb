{
 "cells": [
  {
   "cell_type": "code",
   "execution_count": null,
   "metadata": {
    "collapsed": true
   },
   "outputs": [],
   "source": [
    "import requests\n",
    "from bs4 import BeautifulSoup\n",
    "import pandas as pd\n",
    "import time\n",
    "from collections import defaultdict"
   ]
  },
  {
   "cell_type": "code",
   "execution_count": null,
   "metadata": {
    "collapsed": false
   },
   "outputs": [],
   "source": [
    "pd.set_option('display.max_colwidth', 100)\n",
    "\n",
    "base_provider = \"https://www.comedy.co.uk\""
   ]
  },
  {
   "cell_type": "code",
   "execution_count": null,
   "metadata": {
    "collapsed": true
   },
   "outputs": [],
   "source": [
    "# only TV panel shows\n",
    "r = requests.get(\"https://www.comedy.co.uk/tv/list/panel_show/\")"
   ]
  },
  {
   "cell_type": "code",
   "execution_count": null,
   "metadata": {
    "collapsed": false
   },
   "outputs": [],
   "source": [
    "html_tree = BeautifulSoup(r.text, \"lxml\")"
   ]
  },
  {
   "cell_type": "code",
   "execution_count": null,
   "metadata": {
    "collapsed": false
   },
   "outputs": [],
   "source": [
    "#read all the show titles and their urls\n",
    "list_shows = [[x.text, base_provider + x[\"href\"] + \"episodes/all/\"] for x in html_tree.select(\".m- a\")]"
   ]
  },
  {
   "cell_type": "code",
   "execution_count": null,
   "metadata": {
    "collapsed": false
   },
   "outputs": [],
   "source": [
    "data = pd.DataFrame(list_shows, columns=[\"title\", \"url\"])"
   ]
  },
  {
   "cell_type": "code",
   "execution_count": null,
   "metadata": {
    "collapsed": false
   },
   "outputs": [],
   "source": [
    "def build_cast(idx, show):\n",
    "    \"\"\"Builds a DataFrame for each show (row) and the number of appearences for the comedians (columns)\n",
    "    \"\"\"\n",
    "    cast = defaultdict(int)\n",
    "    \n",
    "    time_start = time.time()\n",
    "    \n",
    "    r = requests.get(show).text\n",
    "    episode_list = [base_provider + a[\"href\"] for a in BeautifulSoup(r, \"lxml\")\n",
    "                    .select(\"ol.list-unstyled > li > a[href]\")]\n",
    "    \n",
    "    for episode in episode_list:\n",
    "        r_ep = requests.get(episode).text\n",
    "        ep = BeautifulSoup(r_ep, \"lxml\")\n",
    "        cast_list = [x.text for x in\n",
    "                     ep.select(\"h3 + table a[href^=/people]\") # regulars\n",
    "                     + ep.select(\"h3 + table + table a[href^=/people]\")] # guests\n",
    "        # for complete cast (incl. writers): \"table a[href^=/people]\"\n",
    "        \n",
    "        for person in cast_list:\n",
    "            cast[person] += 1\n",
    "        \n",
    "\n",
    "        time.sleep(1)\n",
    "        \n",
    "    time_end = time.time() - time_start\n",
    "    print(\"Got\", len(cast), \"columns for\", show, \"in\", int(time_end), \"s\")\n",
    "    \n",
    "    return pd.DataFrame(cast, index=[idx], columns=cast.keys())"
   ]
  },
  {
   "cell_type": "code",
   "execution_count": null,
   "metadata": {
    "collapsed": false,
    "scrolled": false
   },
   "outputs": [],
   "source": [
    "# build cast data\n",
    "cast_data = [build_cast(idx, data[\"url\"][idx]) for idx in data.index]"
   ]
  },
  {
   "cell_type": "code",
   "execution_count": null,
   "metadata": {
    "collapsed": false
   },
   "outputs": [],
   "source": [
    "# make it one DataFrame\n",
    "tmp = pd.concat(cast_data)"
   ]
  },
  {
   "cell_type": "code",
   "execution_count": null,
   "metadata": {
    "collapsed": false
   },
   "outputs": [],
   "source": [
    "# join with original data, remove shows with no information and fill the sparse matrix with zeros\n",
    "data = data.join(tmp)\n",
    "data = data.dropna(how=\"all\", subset=data.columns[2:]).fillna(0)"
   ]
  },
  {
   "cell_type": "code",
   "execution_count": null,
   "metadata": {
    "collapsed": false
   },
   "outputs": [],
   "source": [
    "# save\n",
    "data.to_hdf(\"all_shows.h5\", key=\"data\")"
   ]
  },
  {
   "cell_type": "code",
   "execution_count": null,
   "metadata": {
    "collapsed": true
   },
   "outputs": [],
   "source": []
  }
 ],
 "metadata": {
  "kernelspec": {
   "display_name": "Python 3",
   "language": "python",
   "name": "python3"
  },
  "language_info": {
   "codemirror_mode": {
    "name": "ipython",
    "version": 3
   },
   "file_extension": ".py",
   "mimetype": "text/x-python",
   "name": "python",
   "nbconvert_exporter": "python",
   "pygments_lexer": "ipython3",
   "version": "3.5.2"
  }
 },
 "nbformat": 4,
 "nbformat_minor": 1
}
